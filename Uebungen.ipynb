{
 "cells": [
  {
   "cell_type": "markdown",
   "id": "3e8465e2",
   "metadata": {},
   "source": [
    "# Übungen zur Nutzung der Movie API\n",
    "\n",
    "In diesem Notebook lernst du, wie du mit Python und HTTP-Anfragen die Funktionen der Movie API aus `app.py` verwendest.\n",
    "\n",
    "Bearbeite die Aufgaben, indem du die fehlenden Code-Stellen ergänzt!"
   ]
  },
  {
   "cell_type": "markdown",
   "id": "38ab262b",
   "metadata": {},
   "source": [
    "## 1. Importiere benötigte Bibliotheken\n",
    "\n",
    "Wir benötigen die Bibliotheken `requests` und `json` für HTTP-Anfragen und das Verarbeiten von Antworten."
   ]
  },
  {
   "cell_type": "code",
   "execution_count": null,
   "id": "35c015e2",
   "metadata": {},
   "outputs": [],
   "source": [
    "import requests\n",
    "import json\n",
    "import subprocess\n",
    "import sys\n",
    "import time\n",
    "import os"
   ]
  },
  {
   "cell_type": "markdown",
   "id": "acfd7e54",
   "metadata": {},
   "source": [
    "## 2. Starte die Flask-App im Hintergrund\n",
    "\n",
    "\n",
    "Falls die Flask-App (`app.py`) noch nicht läuft, starte sie im Hintergrund."
   ]
  },
  {
   "cell_type": "markdown",
   "id": "75942e47",
   "metadata": {},
   "source": [
    "## 3. Definiere Hilfsfunktionen für HTTP-Anfragen\n",
    "\n",
    "Erstelle Python-Funktionen, um GET- und POST-Anfragen an die API zu senden.\n",
    "Hier Beispielhaft für HTTP methode GET auf http://127.0.0.1:5000/movies"
   ]
  },
  {
   "cell_type": "code",
   "execution_count": null,
   "id": "b5d996c2",
   "metadata": {},
   "outputs": [],
   "source": [
    "FLASK_HOST = \"http://127.0.0.1\"\n",
    "FLASK_PORT = \"5000\"\n",
    "BASE_URL = f\"http://{FLASK_HOST}:{FLASK_PORT}\"\n",
    "\n",
    "\n",
    "def get_movies():\n",
    "    response = requests.get(f\"{BASE_URL}/movies\")\n",
    "    return response\n",
    "\n"
   ]
  },
  {
   "cell_type": "code",
   "execution_count": null,
   "id": "111ab3b5",
   "metadata": {},
   "outputs": [],
   "source": [
    "get_movies()"
   ]
  },
  {
   "cell_type": "markdown",
   "id": "533de531",
   "metadata": {},
   "source": [
    "## 4. Alle Filme abrufen\n",
    "\n",
    "Sende eine GET-Anfrage an `/movies` und zeige die Antwort als Tabelle an."
   ]
  },
  {
   "cell_type": "code",
   "execution_count": null,
   "id": "46812ded",
   "metadata": {},
   "outputs": [],
   "source": [
    "# TODO: Rufe alle Filme ab und gib sie aus\n",
    "# Tipp: pandas as pd"
   ]
  },
  {
   "cell_type": "markdown",
   "id": "81a92f5a",
   "metadata": {},
   "source": [
    "## 5. Einen bestimmten Film abrufen\n",
    "\n",
    "Sende eine GET-Anfrage an `/movies/<movie_id>` für einen Film mit bestimmter ID.\n",
    "\n"
   ]
  },
  {
   "cell_type": "code",
   "execution_count": null,
   "id": "5726674a",
   "metadata": {},
   "outputs": [],
   "source": [
    "# TODO: Schreibe eine Funktion get_movie(movie_id)\n",
    "# und rufe einen bestimmten Film ab"
   ]
  },
  {
   "cell_type": "code",
   "execution_count": null,
   "id": "6020fea4",
   "metadata": {},
   "outputs": [],
   "source": [
    "get_movie(2)"
   ]
  },
  {
   "cell_type": "markdown",
   "id": "705c4b80",
   "metadata": {},
   "source": [
    "## 6. Einen neuen Film hinzufügen\n",
    "\n",
    "Sende eine POST-Anfrage an `/movies` mit Filmdaten im JSON-Body und zeige die Antwort an."
   ]
  },
  {
   "cell_type": "code",
   "execution_count": null,
   "id": "ce0fbe0a",
   "metadata": {},
   "outputs": [],
   "source": [
    "# TODO: Füge einen neuen Film hinzu (z.B. \"Blade Runner\", \"Ridley Scott\", 1982)\n",
    "# und gib die Antwort aus"
   ]
  },
  {
   "cell_type": "markdown",
   "id": "6957541e",
   "metadata": {},
   "source": [
    "## 7. Einen Film löschen\n",
    "\n",
    "Ergänze zuerst die DELETE-Funktion in `app.py` (siehe TODO dort), damit dieser Schritt funktioniert.\n",
    "\n",
    "Sende eine DELETE-Anfrage an `/movies/<movie_id>` und prüfe die Antwort."
   ]
  },
  {
   "cell_type": "code",
   "execution_count": null,
   "id": "2e813145",
   "metadata": {},
   "outputs": [],
   "source": [
    "# TODO: Schreibe eine Funktion delete_movie(movie_id)\n",
    "# und lösche einen Film mit ID 1"
   ]
  },
  {
   "cell_type": "markdown",
   "id": "6a3971c9",
   "metadata": {},
   "source": [
    "## 8. Füge mehrere Filme hinzu und gebe diese anschließend aus.\n",
    "\n",
    "Füge weitere Filme hinzu, rufe alle Filme ab und prüfe, ob die neuen Filme korrekt angezeigt werden."
   ]
  },
  {
   "cell_type": "code",
   "execution_count": null,
   "id": "0b2f465d",
   "metadata": {},
   "outputs": [],
   "source": [
    "# TODO: Füge variabel viele Filme hinzu und zeige alle Filme an"
   ]
  }
 ],
 "metadata": {
  "language_info": {
   "name": "python"
  }
 },
 "nbformat": 4,
 "nbformat_minor": 5
}
